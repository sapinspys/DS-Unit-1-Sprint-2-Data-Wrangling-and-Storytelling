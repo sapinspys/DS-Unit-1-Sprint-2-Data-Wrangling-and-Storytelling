{
  "nbformat": 4,
  "nbformat_minor": 0,
  "metadata": {
    "colab": {
      "name": "Code_Challenge_7.31_Guillermo.ipynb",
      "version": "0.3.2",
      "provenance": [],
      "collapsed_sections": [],
      "include_colab_link": true
    },
    "kernelspec": {
      "name": "python3",
      "display_name": "Python 3"
    }
  },
  "cells": [
    {
      "cell_type": "markdown",
      "metadata": {
        "id": "view-in-github",
        "colab_type": "text"
      },
      "source": [
        "<a href=\"https://colab.research.google.com/github/sapinspys/DS-Unit-1-Sprint-2-Data-Wrangling-and-Storytelling/blob/master/Code_Challenge_7_31_Guillermo.ipynb\" target=\"_parent\"><img src=\"https://colab.research.google.com/assets/colab-badge.svg\" alt=\"Open In Colab\"/></a>"
      ]
    },
    {
      "cell_type": "code",
      "metadata": {
        "id": "_sqpfosgtQLL",
        "colab_type": "code",
        "colab": {}
      },
      "source": [
        "# Given an array of integers, return a new array such that each element at index \n",
        "# i of the new array is the product of all the numbers in the original array except the one at i.\n",
        "\n",
        "# For example, if our input was [1, 2, 3, 4, 5], the expected output would be \n",
        "# [120, 60, 40, 30, 24]. If our input was [3, 2, 1], the expected output would be [2*1, 3*1, 2*3] == [2, 3, 6].\n",
        "\n",
        "# Stretch Goal: Only use python standard libraries (no importing numpy, pandas etc..)\n",
        "\n",
        "# Stretch Goal 2: Do it without using division"
      ],
      "execution_count": 0,
      "outputs": []
    },
    {
      "cell_type": "code",
      "metadata": {
        "id": "W19wQcqAtdPB",
        "colab_type": "code",
        "colab": {}
      },
      "source": [
        "from functools import reduce \n",
        "\n",
        "# def multiply(numbers):  \n",
        "#     total = 1\n",
        "#     for x in numbers:\n",
        "#         total *= x  \n",
        "#     return total \n",
        "\n",
        "def products(array):\n",
        "  '''Takes an array of integers and returns a new array such that each element at \n",
        "  index i of the new array is the product of all the numbers in the original \n",
        "  array except the one at i.'''\n",
        "  \n",
        "  product_array = []\n",
        "  \n",
        "  for index in range(len(array)):\n",
        "    temp_array = list(array)\n",
        "    del temp_array[index]\n",
        "    product_array.append(temp_array)\n",
        "    \n",
        "  return [reduce((lambda x, y: x * y), products) for products in product_array]\n",
        "  # return [multiply(products) for products in product_array]"
      ],
      "execution_count": 0,
      "outputs": []
    },
    {
      "cell_type": "code",
      "metadata": {
        "id": "sXBj6LuNulET",
        "colab_type": "code",
        "outputId": "694e19b3-9fbf-4037-d5b6-7147ca71cccc",
        "colab": {
          "base_uri": "https://localhost:8080/",
          "height": 34
        }
      },
      "source": [
        "test_array = [3, 2, 1]\n",
        "\n",
        "products(test_array)"
      ],
      "execution_count": 0,
      "outputs": [
        {
          "output_type": "execute_result",
          "data": {
            "text/plain": [
              "[2, 3, 6]"
            ]
          },
          "metadata": {
            "tags": []
          },
          "execution_count": 50
        }
      ]
    },
    {
      "cell_type": "code",
      "metadata": {
        "id": "xuaV9lUfuvsF",
        "colab_type": "code",
        "outputId": "588c8cea-7773-4f0c-ad33-11e31573b00a",
        "colab": {
          "base_uri": "https://localhost:8080/",
          "height": 34
        }
      },
      "source": [
        "test_array = [1, 2, 3, 4, 5]\n",
        "\n",
        "products(test_array)"
      ],
      "execution_count": 0,
      "outputs": [
        {
          "output_type": "execute_result",
          "data": {
            "text/plain": [
              "[120, 60, 40, 30, 24]"
            ]
          },
          "metadata": {
            "tags": []
          },
          "execution_count": 51
        }
      ]
    }
  ]
}