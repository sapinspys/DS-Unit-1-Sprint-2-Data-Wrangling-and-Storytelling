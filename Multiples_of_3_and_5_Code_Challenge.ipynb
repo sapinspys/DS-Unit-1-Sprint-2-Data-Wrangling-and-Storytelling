{
  "nbformat": 4,
  "nbformat_minor": 0,
  "metadata": {
    "colab": {
      "name": "Multiples of 3 and 5 Code Challenge.ipynb",
      "version": "0.3.2",
      "provenance": [],
      "include_colab_link": true
    },
    "kernelspec": {
      "name": "python3",
      "display_name": "Python 3"
    }
  },
  "cells": [
    {
      "cell_type": "markdown",
      "metadata": {
        "id": "view-in-github",
        "colab_type": "text"
      },
      "source": [
        "<a href=\"https://colab.research.google.com/github/sapinspys/DS-Unit-1-Sprint-2-Data-Wrangling-and-Storytelling/blob/master/Multiples_of_3_and_5_Code_Challenge.ipynb\" target=\"_parent\"><img src=\"https://colab.research.google.com/assets/colab-badge.svg\" alt=\"Open In Colab\"/></a>"
      ]
    },
    {
      "cell_type": "code",
      "metadata": {
        "id": "Rkf_tJj3mN37",
        "colab_type": "code",
        "outputId": "d132c885-a3a4-4dda-98b6-8d48ecf0a9aa",
        "colab": {
          "base_uri": "https://localhost:8080/",
          "height": 36
        }
      },
      "source": [
        "#initial solution\n",
        "def sum_of_multiples_3_5(n):\n",
        "  total=0\n",
        "  for i in range(n):\n",
        "    if ((i%3==0) | (i%5==0)):\n",
        "      total+=i\n",
        "  return total\n",
        "\n",
        "sum_of_multiples_3_5(1000)"
      ],
      "execution_count": 0,
      "outputs": [
        {
          "output_type": "execute_result",
          "data": {
            "text/plain": [
              "233168"
            ]
          },
          "metadata": {
            "tags": []
          },
          "execution_count": 1
        }
      ]
    },
    {
      "cell_type": "code",
      "metadata": {
        "id": "ubkYuZ4tSz_v",
        "colab_type": "code",
        "outputId": "aa67f796-34d0-4fd2-a78f-eec114070e95",
        "colab": {
          "base_uri": "https://localhost:8080/",
          "height": 36
        }
      },
      "source": [
        "#refactored as a list comprehension\n",
        "def sum_of_multiples_3_5(n):\n",
        "  return sum([i for i in range(n) \n",
        "              if ((i%3==0) | (i%5==0))])\n",
        "\n",
        "sum_of_multiples_3_5(10)"
      ],
      "execution_count": 0,
      "outputs": [
        {
          "output_type": "execute_result",
          "data": {
            "text/plain": [
              "23"
            ]
          },
          "metadata": {
            "tags": []
          },
          "execution_count": 4
        }
      ]
    },
    {
      "cell_type": "code",
      "metadata": {
        "colab_type": "code",
        "id": "3MtJylY9unPd",
        "outputId": "4f6adfdf-7297-4ae2-bb84-0f52913fc46d",
        "colab": {
          "base_uri": "https://localhost:8080/",
          "height": 36
        }
      },
      "source": [
        "#method with math instead of loops\n",
        "def sum_of_multi(target, multiple):\n",
        "  #sum of all multiples up to and including target\n",
        "  x = target // multiple\n",
        "  return multiple*(x*(x+1))//2\n",
        "\n",
        "def sum_of_multiples_3_5(target):\n",
        "  #adjust target since the problem is non-inclusive\n",
        "  target = target-1\n",
        "  #return the sum of multiples of 3 and 5\n",
        "  #remove dupes by subtracting all multiples of\n",
        "  #least common multiplier, 15\n",
        "  return (sum_of_multi(target, 3) + \n",
        "          sum_of_multi(target, 5) - \n",
        "          sum_of_multi(target, 15))\n",
        "\n",
        "sum_of_multiples_3_5(1000)"
      ],
      "execution_count": 0,
      "outputs": [
        {
          "output_type": "execute_result",
          "data": {
            "text/plain": [
              "233168"
            ]
          },
          "metadata": {
            "tags": []
          },
          "execution_count": 2
        }
      ]
    },
    {
      "cell_type": "code",
      "metadata": {
        "id": "ntfI_OlGvctD",
        "colab_type": "code",
        "colab": {}
      },
      "source": [
        ""
      ],
      "execution_count": 0,
      "outputs": []
    }
  ]
}