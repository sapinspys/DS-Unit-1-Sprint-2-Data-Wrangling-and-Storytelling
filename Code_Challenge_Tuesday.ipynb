{
  "nbformat": 4,
  "nbformat_minor": 0,
  "metadata": {
    "colab": {
      "name": "Code-Challenge-Tuesday.ipynb",
      "version": "0.3.2",
      "provenance": [],
      "collapsed_sections": [],
      "include_colab_link": true
    },
    "kernelspec": {
      "name": "python3",
      "display_name": "Python 3"
    }
  },
  "cells": [
    {
      "cell_type": "markdown",
      "metadata": {
        "id": "view-in-github",
        "colab_type": "text"
      },
      "source": [
        "<a href=\"https://colab.research.google.com/github/sapinspys/DS-Unit-1-Sprint-2-Data-Wrangling-and-Storytelling/blob/master/Code_Challenge_Tuesday.ipynb\" target=\"_parent\"><img src=\"https://colab.research.google.com/assets/colab-badge.svg\" alt=\"Open In Colab\"/></a>"
      ]
    },
    {
      "cell_type": "markdown",
      "metadata": {
        "id": "vbuwSAG8gH-H",
        "colab_type": "text"
      },
      "source": [
        "## Code Challenge\n",
        "\n",
        "If we list all the natural numbers below 10 that are multiples of 3 or 5, we get 3, 5, 6 and 9. The sum of these multiples is 23.\n",
        "\n",
        "Find the sum of all the multiples of 3 or 5 below 1000.\n",
        "\n",
        "If you finish early, think about efficiency, and generalizing your solution. Hint: The concept of \"triangular numbers\" may come in handy."
      ]
    },
    {
      "cell_type": "code",
      "metadata": {
        "id": "052Q2FazgM3i",
        "colab_type": "code",
        "colab": {}
      },
      "source": [
        "# Imports\n",
        "\n",
        "import numpy as np"
      ],
      "execution_count": 0,
      "outputs": []
    },
    {
      "cell_type": "code",
      "metadata": {
        "id": "ds2RwqChgfxu",
        "colab_type": "code",
        "colab": {
          "base_uri": "https://localhost:8080/",
          "height": 35
        },
        "outputId": "060c2345-3ec4-4b77-a291-f59f114831e1"
      },
      "source": [
        "# Test Case\n",
        "\n",
        "sampleCase = np.arange(1,10)\n",
        "  \n",
        "sampleCase"
      ],
      "execution_count": 11,
      "outputs": [
        {
          "output_type": "execute_result",
          "data": {
            "text/plain": [
              "array([1, 2, 3, 4, 5, 6, 7, 8, 9])"
            ]
          },
          "metadata": {
            "tags": []
          },
          "execution_count": 11
        }
      ]
    },
    {
      "cell_type": "code",
      "metadata": {
        "id": "pz4XkHRShNKY",
        "colab_type": "code",
        "colab": {
          "base_uri": "https://localhost:8080/",
          "height": 72
        },
        "outputId": "18f013c2-e080-4094-8b9f-f4fb723ff733"
      },
      "source": [
        "%time\n",
        "\n",
        "# Possible function to find sum of multiples of 3 or 5\n",
        "\n",
        "def sumOfMultiples(nums,multiple1, multiple2):\n",
        "  '''Takes a list of numbers and returns the sum of found multiples \n",
        "   of 3 or 5 as an integer.'''\n",
        "  return sum([num for num in nums if num%multiple1==0 or num%multiple2==0])\n",
        "  \n",
        "print(multiplesOfThreeAndFive(sampleCase))"
      ],
      "execution_count": 31,
      "outputs": [
        {
          "output_type": "stream",
          "text": [
            "CPU times: user 2 µs, sys: 0 ns, total: 2 µs\n",
            "Wall time: 5.96 µs\n",
            "23\n"
          ],
          "name": "stdout"
        }
      ]
    },
    {
      "cell_type": "code",
      "metadata": {
        "id": "e-i6dRoUrwGP",
        "colab_type": "code",
        "colab": {}
      },
      "source": [
        ""
      ],
      "execution_count": 0,
      "outputs": []
    },
    {
      "cell_type": "code",
      "metadata": {
        "id": "VuLLhgruiFal",
        "colab_type": "code",
        "colab": {
          "base_uri": "https://localhost:8080/",
          "height": 35
        },
        "outputId": "410707a7-7183-42b1-cc8b-10e2aa3a428e"
      },
      "source": [
        "# Find the sum of all the multiples of 3 or 5 below 1000\n",
        "\n",
        "testCase = np.arange(1,1000)\n",
        "\n",
        "print(multiplesOfThreeAndFive(testCase))"
      ],
      "execution_count": 13,
      "outputs": [
        {
          "output_type": "stream",
          "text": [
            "233168\n"
          ],
          "name": "stdout"
        }
      ]
    },
    {
      "cell_type": "markdown",
      "metadata": {
        "id": "fm5IQOO9j5oc",
        "colab_type": "text"
      },
      "source": [
        "## Code Challenge 2\n",
        "\n",
        "As a young child, the story goes, the famous mathematician Gauss was scolded by his math teacher for not paying attention in class and was told to add up all the numbers from 1 to 100 as a punishment. He instantly answered that the sum was 5050, annoying his teacher even more. How did he know? He summed up pairs of numbers in the sequence that added to 100: `(0,100), (1,99)...(49,51) = 50 * 100 = 5000`\n",
        "and added the 50 left over."
      ]
    },
    {
      "cell_type": "code",
      "metadata": {
        "id": "h3tvgyunj8Wq",
        "colab_type": "code",
        "colab": {
          "base_uri": "https://localhost:8080/",
          "height": 72
        },
        "outputId": "2741fc2c-0919-40bd-89bf-41c833f95eaf"
      },
      "source": [
        "def gaussCount(nums):\n",
        "  ''''''\n",
        "  count = 0\n",
        "  for i in nums:\n",
        "    if(i==len(nums)-i):\n",
        "      break\n",
        "    else:\n",
        "      count += i + len(nums)-i\n",
        "  \n",
        "  return count \n",
        "\n",
        "print(gaussCount(np.arange(1,101).tolist()))    \n",
        "\n",
        "print(gaussCount(np.arange(0,100).tolist()))\n",
        "\n",
        "print(sum(np.arange(1,101)))"
      ],
      "execution_count": 30,
      "outputs": [
        {
          "output_type": "stream",
          "text": [
            "4900\n",
            "5000\n",
            "5050\n"
          ],
          "name": "stdout"
        }
      ]
    }
  ]
}