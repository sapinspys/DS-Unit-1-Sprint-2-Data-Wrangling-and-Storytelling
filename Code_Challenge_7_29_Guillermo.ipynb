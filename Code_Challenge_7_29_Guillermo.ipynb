{
  "nbformat": 4,
  "nbformat_minor": 0,
  "metadata": {
    "colab": {
      "name": "Code_Challenge_7.29_Guillermo.ipynb",
      "version": "0.3.2",
      "provenance": [],
      "collapsed_sections": [],
      "include_colab_link": true
    },
    "kernelspec": {
      "name": "python3",
      "display_name": "Python 3"
    }
  },
  "cells": [
    {
      "cell_type": "markdown",
      "metadata": {
        "id": "view-in-github",
        "colab_type": "text"
      },
      "source": [
        "<a href=\"https://colab.research.google.com/github/sapinspys/DS-Unit-1-Sprint-2-Data-Wrangling-and-Storytelling/blob/master/Code_Challenge_7_29_Guillermo.ipynb\" target=\"_parent\"><img src=\"https://colab.research.google.com/assets/colab-badge.svg\" alt=\"Open In Colab\"/></a>"
      ]
    },
    {
      "cell_type": "code",
      "metadata": {
        "id": "4U6GFd2IZ1kU",
        "colab_type": "code",
        "colab": {}
      },
      "source": [
        "# - df.loc[] is a pandas data frame method.\n",
        "# - df.loc[] is for Filtering ROWS selection and/or selecting COLUMNS by the LABEL\n",
        "\n",
        "# Rows: a Label is the INDEX.\n",
        "# Columns: a Label is the Column NAME\n",
        "\n",
        "# Date Frame Labels example below\n",
        "\n",
        "#    'name_1'| 'name_2'       < 'Labels'\n",
        "# 0|_______|________|\n",
        "# 1|_______|________|\n",
        "# 2|_______|________|\n",
        "# 3|_______|________|\n",
        "\n",
        "# ^\n",
        "# Also 'Labels'\n",
        "\n",
        "\n",
        "# .loc[] method format below:\n",
        "\n",
        "# df.loc[what Rows you want , what Columns you want] \n",
        "\n",
        "# Allowed inputs are..\n",
        "# - A single Label - df.loc[5]\n",
        "# - A list of Labels - df.loc['name_1', 'name_2', 'name_3']\n",
        "# - A slice with Labels - df.loc['name_1':'name_3']\n",
        "# - A Boolean Array same length as axis being sliced - df.loc[True, True, True, False, False]\n",
        "\n",
        "# \\/ Tips \\/\n",
        "# - Axis is either Rows or Columns\n",
        "# - : means ALL Labels along THAT Axis\n",
        "# - : is inclusive on both sides of the Slice\n",
        "\n",
        "# Use Google-Fu to figure out how to do what the exercises ask for."
      ],
      "execution_count": 0,
      "outputs": []
    },
    {
      "cell_type": "code",
      "metadata": {
        "id": "4W6BDBt7ZZvF",
        "colab_type": "code",
        "colab": {
          "base_uri": "https://localhost:8080/",
          "height": 134
        },
        "outputId": "3ef4aa79-bbc3-47b8-9ede-64846097394f"
      },
      "source": [
        "import pandas as pd\n",
        "\n",
        "# Data Frame to practice .loc[] techniques on\n",
        "df = pd.DataFrame({'index':[1, 2, 3, 4, 5],\n",
        "                   'name_1':['entry1', 'entry2', 'entry3', 'entry4', 'entry5'],\n",
        "                   'name_2':['entry1', 'entry2', 'entry3', 'entry4', 'entry5'],\n",
        "                   'name_3':['entry1', 'entry2', 'entry3', 'entry4', 'entry5'],\n",
        "                   'name_4':['entry1', 'entry2', 'entry3', 'entry4', 'entry5'],\n",
        "                   'name_5':['entry1', 'entry2', 'entry3', 'entry4', 'entry5']})\n",
        "\n",
        "# Set Index\n",
        "df.set_index('index', inplace=True)\n",
        "\n",
        "print(df)"
      ],
      "execution_count": 1,
      "outputs": [
        {
          "output_type": "stream",
          "text": [
            "       name_1  name_2  name_3  name_4  name_5\n",
            "index                                        \n",
            "1      entry1  entry1  entry1  entry1  entry1\n",
            "2      entry2  entry2  entry2  entry2  entry2\n",
            "3      entry3  entry3  entry3  entry3  entry3\n",
            "4      entry4  entry4  entry4  entry4  entry4\n",
            "5      entry5  entry5  entry5  entry5  entry5\n"
          ],
          "name": "stdout"
        }
      ]
    },
    {
      "cell_type": "code",
      "metadata": {
        "id": "RknWKluNZsMc",
        "colab_type": "code",
        "colab": {
          "base_uri": "https://localhost:8080/",
          "height": 117
        },
        "outputId": "815432da-68ca-46e6-f1ee-7c4cf6de082d"
      },
      "source": [
        "### Select by a Single Label\n",
        "\n",
        "#1 Select and print the '1' Row\n",
        "df.loc[1]"
      ],
      "execution_count": 4,
      "outputs": [
        {
          "output_type": "execute_result",
          "data": {
            "text/plain": [
              "name_1    entry1\n",
              "name_2    entry1\n",
              "name_3    entry1\n",
              "name_4    entry1\n",
              "name_5    entry1\n",
              "Name: 1, dtype: object"
            ]
          },
          "metadata": {
            "tags": []
          },
          "execution_count": 4
        }
      ]
    },
    {
      "cell_type": "code",
      "metadata": {
        "id": "MilZGqVUaHxc",
        "colab_type": "code",
        "colab": {
          "base_uri": "https://localhost:8080/",
          "height": 33
        },
        "outputId": "20e999f5-010e-4b36-8081-1cf55bca622d"
      },
      "source": [
        "#2 Select and print Row 1 Label with Column 1 Label to get entry1\n",
        "df.loc[1, 'name_1']"
      ],
      "execution_count": 5,
      "outputs": [
        {
          "output_type": "execute_result",
          "data": {
            "text/plain": [
              "'entry1'"
            ]
          },
          "metadata": {
            "tags": []
          },
          "execution_count": 5
        }
      ]
    },
    {
      "cell_type": "code",
      "metadata": {
        "id": "IA5XOc2DZlAT",
        "colab_type": "code",
        "colab": {
          "base_uri": "https://localhost:8080/",
          "height": 137
        },
        "outputId": "dca7795a-adef-4a45-87b6-00335d2f7bd5"
      },
      "source": [
        "### Select Multiple Rows Using LISTS\n",
        "\n",
        "#1 Select and print Row Labels 1, 2\n",
        "df.loc[[1,2]]"
      ],
      "execution_count": 9,
      "outputs": [
        {
          "output_type": "execute_result",
          "data": {
            "text/html": [
              "<div>\n",
              "<style scoped>\n",
              "    .dataframe tbody tr th:only-of-type {\n",
              "        vertical-align: middle;\n",
              "    }\n",
              "\n",
              "    .dataframe tbody tr th {\n",
              "        vertical-align: top;\n",
              "    }\n",
              "\n",
              "    .dataframe thead th {\n",
              "        text-align: right;\n",
              "    }\n",
              "</style>\n",
              "<table border=\"1\" class=\"dataframe\">\n",
              "  <thead>\n",
              "    <tr style=\"text-align: right;\">\n",
              "      <th></th>\n",
              "      <th>name_1</th>\n",
              "      <th>name_2</th>\n",
              "      <th>name_3</th>\n",
              "      <th>name_4</th>\n",
              "      <th>name_5</th>\n",
              "    </tr>\n",
              "    <tr>\n",
              "      <th>index</th>\n",
              "      <th></th>\n",
              "      <th></th>\n",
              "      <th></th>\n",
              "      <th></th>\n",
              "      <th></th>\n",
              "    </tr>\n",
              "  </thead>\n",
              "  <tbody>\n",
              "    <tr>\n",
              "      <th>1</th>\n",
              "      <td>entry1</td>\n",
              "      <td>entry1</td>\n",
              "      <td>entry1</td>\n",
              "      <td>entry1</td>\n",
              "      <td>entry1</td>\n",
              "    </tr>\n",
              "    <tr>\n",
              "      <th>2</th>\n",
              "      <td>entry2</td>\n",
              "      <td>entry2</td>\n",
              "      <td>entry2</td>\n",
              "      <td>entry2</td>\n",
              "      <td>entry2</td>\n",
              "    </tr>\n",
              "  </tbody>\n",
              "</table>\n",
              "</div>"
            ],
            "text/plain": [
              "       name_1  name_2  name_3  name_4  name_5\n",
              "index                                        \n",
              "1      entry1  entry1  entry1  entry1  entry1\n",
              "2      entry2  entry2  entry2  entry2  entry2"
            ]
          },
          "metadata": {
            "tags": []
          },
          "execution_count": 9
        }
      ]
    },
    {
      "cell_type": "code",
      "metadata": {
        "id": "8wBkh2ktaQfL",
        "colab_type": "code",
        "colab": {
          "base_uri": "https://localhost:8080/",
          "height": 166
        },
        "outputId": "b8d6fccd-6cbf-42c6-f73f-562c8e2c3be4"
      },
      "source": [
        "#2 Select and print Row Labels 1, 3, 5\n",
        "df.loc[[1,3,5]]"
      ],
      "execution_count": 10,
      "outputs": [
        {
          "output_type": "execute_result",
          "data": {
            "text/html": [
              "<div>\n",
              "<style scoped>\n",
              "    .dataframe tbody tr th:only-of-type {\n",
              "        vertical-align: middle;\n",
              "    }\n",
              "\n",
              "    .dataframe tbody tr th {\n",
              "        vertical-align: top;\n",
              "    }\n",
              "\n",
              "    .dataframe thead th {\n",
              "        text-align: right;\n",
              "    }\n",
              "</style>\n",
              "<table border=\"1\" class=\"dataframe\">\n",
              "  <thead>\n",
              "    <tr style=\"text-align: right;\">\n",
              "      <th></th>\n",
              "      <th>name_1</th>\n",
              "      <th>name_2</th>\n",
              "      <th>name_3</th>\n",
              "      <th>name_4</th>\n",
              "      <th>name_5</th>\n",
              "    </tr>\n",
              "    <tr>\n",
              "      <th>index</th>\n",
              "      <th></th>\n",
              "      <th></th>\n",
              "      <th></th>\n",
              "      <th></th>\n",
              "      <th></th>\n",
              "    </tr>\n",
              "  </thead>\n",
              "  <tbody>\n",
              "    <tr>\n",
              "      <th>1</th>\n",
              "      <td>entry1</td>\n",
              "      <td>entry1</td>\n",
              "      <td>entry1</td>\n",
              "      <td>entry1</td>\n",
              "      <td>entry1</td>\n",
              "    </tr>\n",
              "    <tr>\n",
              "      <th>3</th>\n",
              "      <td>entry3</td>\n",
              "      <td>entry3</td>\n",
              "      <td>entry3</td>\n",
              "      <td>entry3</td>\n",
              "      <td>entry3</td>\n",
              "    </tr>\n",
              "    <tr>\n",
              "      <th>5</th>\n",
              "      <td>entry5</td>\n",
              "      <td>entry5</td>\n",
              "      <td>entry5</td>\n",
              "      <td>entry5</td>\n",
              "      <td>entry5</td>\n",
              "    </tr>\n",
              "  </tbody>\n",
              "</table>\n",
              "</div>"
            ],
            "text/plain": [
              "       name_1  name_2  name_3  name_4  name_5\n",
              "index                                        \n",
              "1      entry1  entry1  entry1  entry1  entry1\n",
              "3      entry3  entry3  entry3  entry3  entry3\n",
              "5      entry5  entry5  entry5  entry5  entry5"
            ]
          },
          "metadata": {
            "tags": []
          },
          "execution_count": 10
        }
      ]
    },
    {
      "cell_type": "code",
      "metadata": {
        "id": "znx_3Pj9Zn-Y",
        "colab_type": "code",
        "colab": {
          "base_uri": "https://localhost:8080/",
          "height": 166
        },
        "outputId": "3d90f0ab-91ff-43e4-cdf2-928f65a985b0"
      },
      "source": [
        "# Now Rows WITH desired Columns\n",
        "\n",
        "#3 Select and print Row Labels 1, 2, 3 with Column Labels 'name_1', 'name_2', 'name_3'\n",
        "df.loc[[1,2,3], ['name_1', 'name_2','name_3']]"
      ],
      "execution_count": 12,
      "outputs": [
        {
          "output_type": "execute_result",
          "data": {
            "text/html": [
              "<div>\n",
              "<style scoped>\n",
              "    .dataframe tbody tr th:only-of-type {\n",
              "        vertical-align: middle;\n",
              "    }\n",
              "\n",
              "    .dataframe tbody tr th {\n",
              "        vertical-align: top;\n",
              "    }\n",
              "\n",
              "    .dataframe thead th {\n",
              "        text-align: right;\n",
              "    }\n",
              "</style>\n",
              "<table border=\"1\" class=\"dataframe\">\n",
              "  <thead>\n",
              "    <tr style=\"text-align: right;\">\n",
              "      <th></th>\n",
              "      <th>name_1</th>\n",
              "      <th>name_2</th>\n",
              "      <th>name_3</th>\n",
              "    </tr>\n",
              "    <tr>\n",
              "      <th>index</th>\n",
              "      <th></th>\n",
              "      <th></th>\n",
              "      <th></th>\n",
              "    </tr>\n",
              "  </thead>\n",
              "  <tbody>\n",
              "    <tr>\n",
              "      <th>1</th>\n",
              "      <td>entry1</td>\n",
              "      <td>entry1</td>\n",
              "      <td>entry1</td>\n",
              "    </tr>\n",
              "    <tr>\n",
              "      <th>2</th>\n",
              "      <td>entry2</td>\n",
              "      <td>entry2</td>\n",
              "      <td>entry2</td>\n",
              "    </tr>\n",
              "    <tr>\n",
              "      <th>3</th>\n",
              "      <td>entry3</td>\n",
              "      <td>entry3</td>\n",
              "      <td>entry3</td>\n",
              "    </tr>\n",
              "  </tbody>\n",
              "</table>\n",
              "</div>"
            ],
            "text/plain": [
              "       name_1  name_2  name_3\n",
              "index                        \n",
              "1      entry1  entry1  entry1\n",
              "2      entry2  entry2  entry2\n",
              "3      entry3  entry3  entry3"
            ]
          },
          "metadata": {
            "tags": []
          },
          "execution_count": 12
        }
      ]
    },
    {
      "cell_type": "code",
      "metadata": {
        "id": "3ARlG_EPahcx",
        "colab_type": "code",
        "colab": {
          "base_uri": "https://localhost:8080/",
          "height": 196
        },
        "outputId": "f05ac216-df0d-4197-db11-3a9f833e4fd5"
      },
      "source": [
        "#4 Select and print Row Labels 1, 3, 4, 5 with Column Labels 'name_1', 'name_3', 'name_4', 'name_5'\n",
        "df.loc[[1,3,4,5], ['name_1', 'name_3','name_4','name_5']]"
      ],
      "execution_count": 13,
      "outputs": [
        {
          "output_type": "execute_result",
          "data": {
            "text/html": [
              "<div>\n",
              "<style scoped>\n",
              "    .dataframe tbody tr th:only-of-type {\n",
              "        vertical-align: middle;\n",
              "    }\n",
              "\n",
              "    .dataframe tbody tr th {\n",
              "        vertical-align: top;\n",
              "    }\n",
              "\n",
              "    .dataframe thead th {\n",
              "        text-align: right;\n",
              "    }\n",
              "</style>\n",
              "<table border=\"1\" class=\"dataframe\">\n",
              "  <thead>\n",
              "    <tr style=\"text-align: right;\">\n",
              "      <th></th>\n",
              "      <th>name_1</th>\n",
              "      <th>name_3</th>\n",
              "      <th>name_4</th>\n",
              "      <th>name_5</th>\n",
              "    </tr>\n",
              "    <tr>\n",
              "      <th>index</th>\n",
              "      <th></th>\n",
              "      <th></th>\n",
              "      <th></th>\n",
              "      <th></th>\n",
              "    </tr>\n",
              "  </thead>\n",
              "  <tbody>\n",
              "    <tr>\n",
              "      <th>1</th>\n",
              "      <td>entry1</td>\n",
              "      <td>entry1</td>\n",
              "      <td>entry1</td>\n",
              "      <td>entry1</td>\n",
              "    </tr>\n",
              "    <tr>\n",
              "      <th>3</th>\n",
              "      <td>entry3</td>\n",
              "      <td>entry3</td>\n",
              "      <td>entry3</td>\n",
              "      <td>entry3</td>\n",
              "    </tr>\n",
              "    <tr>\n",
              "      <th>4</th>\n",
              "      <td>entry4</td>\n",
              "      <td>entry4</td>\n",
              "      <td>entry4</td>\n",
              "      <td>entry4</td>\n",
              "    </tr>\n",
              "    <tr>\n",
              "      <th>5</th>\n",
              "      <td>entry5</td>\n",
              "      <td>entry5</td>\n",
              "      <td>entry5</td>\n",
              "      <td>entry5</td>\n",
              "    </tr>\n",
              "  </tbody>\n",
              "</table>\n",
              "</div>"
            ],
            "text/plain": [
              "       name_1  name_3  name_4  name_5\n",
              "index                                \n",
              "1      entry1  entry1  entry1  entry1\n",
              "3      entry3  entry3  entry3  entry3\n",
              "4      entry4  entry4  entry4  entry4\n",
              "5      entry5  entry5  entry5  entry5"
            ]
          },
          "metadata": {
            "tags": []
          },
          "execution_count": 13
        }
      ]
    }
  ]
}